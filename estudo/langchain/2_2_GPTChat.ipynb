{
 "cells": [
  {
   "cell_type": "markdown",
   "id": "VQe1EWNB53ub",
   "metadata": {
    "editable": true,
    "id": "VQe1EWNB53ub",
    "slideshow": {
     "slide_type": ""
    },
    "tags": []
   },
   "source": [
    "# Setup"
   ]
  },
  {
   "cell_type": "code",
   "execution_count": null,
   "id": "9q2TSFWGpHqv",
   "metadata": {
    "editable": true,
    "id": "9q2TSFWGpHqv",
    "slideshow": {
     "slide_type": ""
    },
    "tags": []
   },
   "outputs": [],
   "source": [
    "from openai import OpenAI\n",
    "import os\n",
    "import yaml"
   ]
  },
  {
   "cell_type": "code",
   "execution_count": null,
   "id": "fCjATY8npLWt",
   "metadata": {
    "editable": true,
    "id": "fCjATY8npLWt",
    "slideshow": {
     "slide_type": ""
    },
    "tags": []
   },
   "outputs": [],
   "source": [
    "with open('config.yaml', 'r') as config_file:\n",
    "    config = yaml.safe_load(config_file)\n",
    "    \n",
    "os.environ['OPENAI_API_KEY'] = config['OPENAI_API_KEY']"
   ]
  },
  {
   "cell_type": "markdown",
   "id": "aREP45DB5vUF",
   "metadata": {
    "id": "aREP45DB5vUF"
   },
   "source": [
    "# Chat Básico"
   ]
  },
  {
   "cell_type": "code",
   "execution_count": null,
   "id": "9578b19b-d6d4-4a88-91af-d3c600877e83",
   "metadata": {
    "editable": true,
    "id": "9578b19b-d6d4-4a88-91af-d3c600877e83",
    "slideshow": {
     "slide_type": ""
    },
    "tags": []
   },
   "outputs": [],
   "source": [
    "client = OpenAI()\n",
    "model = \"gpt-3.5-turbo\"\n",
    "\n",
    "response = client.chat.completions.create(\n",
    "  model=model,\n",
    "  messages=[\n",
    "    {\"role\": \"user\", \"content\": \"Conte uma Piada!\"}\n",
    "  ]\n",
    ")"
   ]
  },
  {
   "cell_type": "code",
   "execution_count": null,
   "id": "0MFu31TYr-ne",
   "metadata": {
    "colab": {
     "base_uri": "https://localhost:8080/"
    },
    "id": "0MFu31TYr-ne",
    "outputId": "7b431798-8cad-4ad5-92c5-ca816b621ea8"
   },
   "outputs": [],
   "source": [
    "print(response)"
   ]
  },
  {
   "cell_type": "code",
   "execution_count": null,
   "id": "-AzG_vxI6fq1",
   "metadata": {
    "colab": {
     "base_uri": "https://localhost:8080/"
    },
    "id": "-AzG_vxI6fq1",
    "outputId": "8a7413c7-5f5f-4509-c0bc-a17d4b0bc449"
   },
   "outputs": [],
   "source": [
    "print(type(response))"
   ]
  },
  {
   "cell_type": "code",
   "execution_count": null,
   "id": "R5YhBSLw9Nex",
   "metadata": {
    "colab": {
     "base_uri": "https://localhost:8080/"
    },
    "id": "R5YhBSLw9Nex",
    "outputId": "8b23bd65-7782-4dc1-cc39-886d9438dc36"
   },
   "outputs": [],
   "source": [
    "message = (response.choices[0].message.content)\n",
    "print(message)"
   ]
  },
  {
   "cell_type": "markdown",
   "id": "CVyIIb6ztV_S",
   "metadata": {
    "id": "CVyIIb6ztV_S"
   },
   "source": [
    "# Roles\n"
   ]
  },
  {
   "cell_type": "code",
   "execution_count": null,
   "id": "INk7iK_ktaGJ",
   "metadata": {
    "id": "INk7iK_ktaGJ"
   },
   "outputs": [],
   "source": [
    "response = client.chat.completions.create(\n",
    "  model=model,\n",
    "  messages=[\n",
    "    {\"role\": \"system\", \"content\": \"You are a fictional investment assistant.\"},\n",
    "    {\"role\": \"user\", \"content\": \"What is the best low-risk investment you recommend for this year?\"}\n",
    "  ]\n",
    ")"
   ]
  },
  {
   "cell_type": "code",
   "execution_count": null,
   "id": "WA2oAT2jtaKT",
   "metadata": {
    "colab": {
     "base_uri": "https://localhost:8080/"
    },
    "id": "WA2oAT2jtaKT",
    "outputId": "7b34b6c6-53a6-4600-95b5-7c94d5a3cc89"
   },
   "outputs": [],
   "source": [
    "message = (response.choices[0].message.content)\n",
    "print(message)"
   ]
  },
  {
   "cell_type": "code",
   "execution_count": null,
   "id": "tezwtJFstaNc",
   "metadata": {
    "id": "tezwtJFstaNc"
   },
   "outputs": [],
   "source": [
    "response = client.chat.completions.create(\n",
    "  model=model,\n",
    "  messages=[\n",
    "    {\"role\": \"assistant\", \"content\": message},\n",
    "    {\"role\": \"user\", \"content\": \"What are the risks related to Government bonds?\"}\n",
    "  ]\n",
    ")"
   ]
  },
  {
   "cell_type": "code",
   "execution_count": null,
   "id": "udQ6VkHrtaQq",
   "metadata": {
    "colab": {
     "base_uri": "https://localhost:8080/"
    },
    "id": "udQ6VkHrtaQq",
    "outputId": "2c423f83-1834-4a5f-8b0c-e776d275421c"
   },
   "outputs": [],
   "source": [
    "print(response.choices[0].message.content)"
   ]
  },
  {
   "cell_type": "markdown",
   "id": "A353flWN6s2k",
   "metadata": {
    "id": "A353flWN6s2k"
   },
   "source": [
    "## Hiper Parâmetros"
   ]
  },
  {
   "cell_type": "code",
   "execution_count": null,
   "id": "5XnTW97G3IOn",
   "metadata": {
    "id": "5XnTW97G3IOn"
   },
   "outputs": [],
   "source": [
    "response = client.chat.completions.create(\n",
    "  model=model,\n",
    "  frequency_penalty=1,\n",
    "  presence_penalty = 1,\n",
    "  temperature =  1 ,\n",
    "  max_tokens=500,\n",
    "  n = 2 ,\n",
    "  seed = 123,\n",
    "  #stop = [\"shadows\",\"mortal \"],\n",
    "  messages=[\n",
    "    {\"role\": \"system\", \"content\": \"You are a depressed and disillusioned poet.\"},\n",
    "    {\"role\": \"user\", \"content\": \"Compose a poem about the ephemerality of existence.\"}\n",
    "  ]\n",
    ")"
   ]
  },
  {
   "cell_type": "code",
   "execution_count": null,
   "id": "4LsjzYy639kg",
   "metadata": {
    "id": "4LsjzYy639kg"
   },
   "outputs": [],
   "source": [
    "print(response.choices[0].message.content)\n",
    "print(\" -------------------------\")\n",
    "print(response.choices[1].message.content)"
   ]
  },
  {
   "cell_type": "code",
   "execution_count": null,
   "id": "UWJZIexOw68T",
   "metadata": {
    "id": "UWJZIexOw68T"
   },
   "outputs": [],
   "source": []
  }
 ],
 "metadata": {
  "colab": {
   "provenance": []
  },
  "kernelspec": {
   "display_name": "Python 3 (ipykernel)",
   "language": "python",
   "name": "python3"
  },
  "language_info": {
   "codemirror_mode": {
    "name": "ipython",
    "version": 3
   },
   "file_extension": ".py",
   "mimetype": "text/x-python",
   "name": "python",
   "nbconvert_exporter": "python",
   "pygments_lexer": "ipython3",
   "version": "3.11.11"
  }
 },
 "nbformat": 4,
 "nbformat_minor": 5
}
