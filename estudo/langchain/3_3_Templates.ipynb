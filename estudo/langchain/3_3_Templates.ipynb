{
 "cells": [
  {
   "cell_type": "markdown",
   "metadata": {
    "editable": true,
    "slideshow": {
     "slide_type": ""
    },
    "tags": []
   },
   "source": [
    "# Setup"
   ]
  },
  {
   "cell_type": "code",
   "execution_count": null,
   "metadata": {
    "editable": true,
    "id": "ASzXPwDRUBxA",
    "slideshow": {
     "slide_type": ""
    },
    "tags": []
   },
   "outputs": [],
   "source": [
    "from langchain_openai import ChatOpenAI,OpenAI\n",
    "from langchain.prompts import PromptTemplate,ChatPromptTemplate, HumanMessagePromptTemplate\n",
    "from langchain_core.messages import SystemMessage, HumanMessage, AIMessage\n",
    "import os\n",
    "import yaml"
   ]
  },
  {
   "cell_type": "code",
   "execution_count": null,
   "metadata": {},
   "outputs": [],
   "source": [
    "with open('config.yaml', 'r') as config_file:\n",
    "    config = yaml.safe_load(config_file)\n",
    "os.environ['GOOGLE_API_KEY'] = config['GOOGLE_API_KEY']"
   ]
  },
  {
   "cell_type": "markdown",
   "metadata": {},
   "source": [
    "# Completion"
   ]
  },
  {
   "cell_type": "code",
   "execution_count": null,
   "metadata": {
    "id": "eCBl659lZl7j"
   },
   "outputs": [],
   "source": [
    "template = '''\n",
    "Você é um analista financeiro.\n",
    "Escreva um relatório financeiro detalhado para a empresa \"{empresa}\" para o período {periodo}.\n",
    "\n",
    "O relatório deve ser escrito em {idioma} e incluir as seguintes análises:\n",
    "{analises}\n",
    "\n",
    "Certifique-se de fornecer insights e conclusões para cada seção.\n",
    "'''"
   ]
  },
  {
   "cell_type": "code",
   "execution_count": null,
   "metadata": {
    "id": "zCezS4xvZl_C"
   },
   "outputs": [],
   "source": [
    "prompt_template = PromptTemplate.from_template(template=template)"
   ]
  },
  {
   "cell_type": "code",
   "execution_count": null,
   "metadata": {
    "id": "z_YBQfANZmCi"
   },
   "outputs": [],
   "source": [
    "empresa = 'ACME Corp'\n",
    "periodo = 'Q1 2024'\n",
    "idioma = 'Português'\n",
    "analises = [\n",
    "    \"Análise do Balanço Patrimonial\",\n",
    "    \"Análise do Fluxo de Caixa\",\n",
    "    \"Análise de Tendências\",\n",
    "    \"Análise de Receita e Lucro\",\n",
    "    \"Análise de Posição de Mercado\"\n",
    "]\n",
    "analises_text = \"\\n\".join([f\"- {analise}\" for analise in analises])"
   ]
  },
  {
   "cell_type": "code",
   "execution_count": null,
   "metadata": {},
   "outputs": [],
   "source": [
    "print(analises_text)"
   ]
  },
  {
   "cell_type": "code",
   "execution_count": null,
   "metadata": {
    "colab": {
     "base_uri": "https://localhost:8080/"
    },
    "id": "3C9tfTCDZuXr",
    "outputId": "f57170e1-95ff-4fb4-b080-c9dd7ae2b610"
   },
   "outputs": [],
   "source": [
    "prompt = prompt_template.format(\n",
    "    empresa=empresa,\n",
    "    periodo=periodo,\n",
    "    idioma=idioma,\n",
    "    analises=analises_text\n",
    ")\n",
    "print(\"Prompt Gerado:\\n\", prompt)"
   ]
  },
  {
   "cell_type": "code",
   "execution_count": null,
   "metadata": {
    "colab": {
     "base_uri": "https://localhost:8080/"
    },
    "id": "SBYz28rrYyXd",
    "outputId": "a5e593fb-f02d-4217-9c91-99900817902c"
   },
   "outputs": [],
   "source": [
    "openai = OpenAI(model_name='gpt-3.5-turbo-instruct',max_tokens=2000) #max 4096\n",
    "\n",
    "response = openai.invoke(prompt)\n",
    "print(\"Saída do LLM:\\n\", response)"
   ]
  },
  {
   "cell_type": "markdown",
   "metadata": {},
   "source": [
    "# Chat"
   ]
  },
  {
   "cell_type": "code",
   "execution_count": null,
   "metadata": {
    "id": "QGQUp499fKBZ"
   },
   "outputs": [],
   "source": [
    "#equivalência aos roles: system: system, Human: user, AI: assistant\n",
    "chat_template = ChatPromptTemplate.from_messages(\n",
    "    [\n",
    "        SystemMessage(content='Você deve estruturar suas respostas de acordo com o método de análise de negócios, garantindo clareza e concisão.'),\n",
    "        HumanMessagePromptTemplate.from_template('Por favor, gere um relatório detalhado sobre a indústria de tecnologia na região \"{regiao}\".'),\n",
    "        AIMessage(content='Claro, vou começar coletando informações sobre a região e analisando os dados disponíveis.'),\n",
    "        HumanMessage(content='Certifique-se de incluir uma análise SWOT e uma previsão de crescimento para os próximos 5 anos.'),\n",
    "        AIMessage(content='Entendido. Aqui está o relatório completo:')\n",
    "    ]\n",
    ")"
   ]
  },
  {
   "cell_type": "code",
   "execution_count": null,
   "metadata": {
    "colab": {
     "base_uri": "https://localhost:8080/"
    },
    "id": "WDxgxLrofKEc",
    "outputId": "a3e79711-b163-4824-fed8-0f2c399a4b3f"
   },
   "outputs": [],
   "source": [
    "prompt_gerado = chat_template.format_messages(regiao='América Latina')\n",
    "print(prompt_gerado)  "
   ]
  },
  {
   "cell_type": "code",
   "execution_count": null,
   "metadata": {
    "colab": {
     "base_uri": "https://localhost:8080/"
    },
    "editable": true,
    "id": "daEu9my2fKHm",
    "outputId": "aeeb4f0b-a4bd-4596-c5b3-affc6b8e3426",
    "slideshow": {
     "slide_type": ""
    },
    "tags": []
   },
   "outputs": [],
   "source": [
    "openai = ChatOpenAI(model_name='gpt-3.5-turbo')\n",
    "response = openai.invoke(prompt_gerado)\n",
    "print(\"Saída do LLM:\\n\", response.content)"
   ]
  },
  {
   "cell_type": "code",
   "execution_count": null,
   "metadata": {},
   "outputs": [],
   "source": []
  }
 ],
 "metadata": {
  "colab": {
   "provenance": []
  },
  "kernelspec": {
   "display_name": "Python 3 (ipykernel)",
   "language": "python",
   "name": "python3"
  },
  "language_info": {
   "codemirror_mode": {
    "name": "ipython",
    "version": 3
   },
   "file_extension": ".py",
   "mimetype": "text/x-python",
   "name": "python",
   "nbconvert_exporter": "python",
   "pygments_lexer": "ipython3",
   "version": "3.11.9"
  }
 },
 "nbformat": 4,
 "nbformat_minor": 4
}
