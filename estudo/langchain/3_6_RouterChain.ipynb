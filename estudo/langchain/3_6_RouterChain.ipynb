{
 "cells": [
  {
   "cell_type": "markdown",
   "metadata": {
    "editable": true,
    "slideshow": {
     "slide_type": ""
    },
    "tags": []
   },
   "source": [
    "# Setup"
   ]
  },
  {
   "cell_type": "code",
   "execution_count": null,
   "metadata": {
    "editable": true,
    "id": "vOISp5PYq4qi",
    "slideshow": {
     "slide_type": ""
    },
    "tags": []
   },
   "outputs": [],
   "source": [
    "from langchain_openai import OpenAI\n",
    "from langchain.prompts import PromptTemplate\n",
    "from langchain_core.output_parsers import StrOutputParser\n",
    "import yaml\n",
    "import os"
   ]
  },
  {
   "cell_type": "code",
   "execution_count": null,
   "metadata": {},
   "outputs": [],
   "source": [
    "with open('config.yaml', 'r') as config_file:\n",
    "    config = yaml.safe_load(config_file)\n",
    "os.environ['OPENAI_API_KEY'] = config['OPENAI_API_KEY']"
   ]
  },
  {
   "cell_type": "code",
   "execution_count": null,
   "metadata": {},
   "outputs": [],
   "source": [
    "openai = OpenAI(model_name='gpt-3.5-turbo-instruct', temperature=0)"
   ]
  },
  {
   "cell_type": "markdown",
   "metadata": {},
   "source": [
    "# RouterChain"
   ]
  },
  {
   "cell_type": "code",
   "execution_count": null,
   "metadata": {},
   "outputs": [],
   "source": [
    "# ela inicial (classificação)\n",
    "chain = (\n",
    "    PromptTemplate.from_template(\n",
    "        \"\"\"\n",
    "        Classifique a pergunta do usuário em uma das seguintes categorias:\n",
    "        - Assuntos Financeiros\n",
    "        - Suporte Técnico\n",
    "        - Atualização de Cadastro\n",
    "        - Outras Informações\n",
    "\n",
    "        Pergunta: {query}\n",
    "        Classificação:\n",
    "        \"\"\"\n",
    "    )\n",
    "    | openai\n",
    "    | StrOutputParser() \n",
    ")"
   ]
  },
  {
   "cell_type": "code",
   "execution_count": null,
   "metadata": {},
   "outputs": [],
   "source": [
    "print(chain)"
   ]
  },
  {
   "cell_type": "code",
   "execution_count": null,
   "metadata": {},
   "outputs": [],
   "source": [
    "# elos específicos\n",
    "financial_chain = PromptTemplate.from_template(\n",
    "    \"\"\"\n",
    "    Você é um especialista financeiro.\n",
    "    Sempre responda às perguntas começando com \"Bem-vindo ao Suporte Financeiro\".\n",
    "    Responda à pergunta do usuário:\n",
    "    Pergunta: {query}\n",
    "    Resposta:\n",
    "    \"\"\"\n",
    ") | openai\n",
    "tech_support_chain = PromptTemplate.from_template(\n",
    "    \"\"\"\n",
    "    Você é um especialista em suporte técnico.\n",
    "    Sempre responda às perguntas começando com \"Bem-vindo ao Suporte Técnico\".\n",
    "    Ajude o usuário com seu problema técnico.\n",
    "    Pergunta: {query}\n",
    "    Resposta:\n",
    "    \"\"\"\n",
    ") | openai\n",
    "update_registration_chain = PromptTemplate.from_template(\n",
    "    \"\"\"\n",
    "    Você é um representante de atendimento ao cliente.\n",
    "    Sempre responda às perguntas começando com \"Bem-vindo ao Suporte de Cadastro\".\n",
    "    Guie o usuário na atualização de suas informações de cadastro.\n",
    "    Pergunta: {query}\n",
    "    Resposta:\n",
    "    \"\"\"\n",
    ") | openai\n",
    "other_info_chain = PromptTemplate.from_template(\n",
    "    \"\"\"\n",
    "    Você é um assistente de informações gerais.\n",
    "    Sempre responda às perguntas começando com \"Bem-vindo ao Suporte Geral\".\n",
    "    Forneça informações ao usuário sobre sua pergunta.\n",
    "    Pergunta: {query}\n",
    "    Resposta:\n",
    "    \"\"\"\n",
    ") | openai"
   ]
  },
  {
   "cell_type": "code",
   "execution_count": null,
   "metadata": {},
   "outputs": [],
   "source": [
    "# Função de roteamento\n",
    "def route(info):\n",
    "    topic = info[\"topic\"].lower()\n",
    "    if \"financeiro\" in topic:\n",
    "        return financial_chain\n",
    "    elif \"técnico\" in topic:\n",
    "        return tech_support_chain\n",
    "    elif \"atualização\" in topic or \"cadastro\" in topic:\n",
    "        return update_registration_chain\n",
    "    else:\n",
    "        return other_info_chain"
   ]
  },
  {
   "cell_type": "code",
   "execution_count": null,
   "metadata": {},
   "outputs": [],
   "source": [
    "# Exemplos 1 suporte técnico\n",
    "classification = chain.invoke({\"query\": \"Como faço para redefinir minha senha?\"})\n",
    "print(classification)"
   ]
  },
  {
   "cell_type": "code",
   "execution_count": null,
   "metadata": {},
   "outputs": [],
   "source": [
    "#chama a função rote, passando o topico\n",
    "response_chain = route({\"topic\": classification})\n",
    "print(response_chain)"
   ]
  },
  {
   "cell_type": "code",
   "execution_count": null,
   "metadata": {},
   "outputs": [],
   "source": [
    "#executa o objeto correto\n",
    "response = response_chain.invoke({\"query\": \"Como faço para redefinir minha senha?\"})\n",
    "print(response)"
   ]
  },
  {
   "cell_type": "code",
   "execution_count": null,
   "metadata": {},
   "outputs": [],
   "source": [
    "# Exemplo 2 (Assuntos Financeiros)\n",
    "classification = chain.invoke({\"query\": \"Como posso pagar uma fatura atrasada?\"})\n",
    "response_chain = route({\"topic\": classification})\n",
    "response = response_chain.invoke({\"query\": \"Como posso pagar uma fatura atrasada?\"})\n",
    "print(response)"
   ]
  },
  {
   "cell_type": "code",
   "execution_count": null,
   "metadata": {},
   "outputs": [],
   "source": [
    "# Exemplo 3 (Atualização de Cadastro)\n",
    "classification = chain.invoke({\"query\": \"Preciso alterar meu endereço de e-mail.\"})\n",
    "response_chain = route({\"topic\": classification})\n",
    "response = response_chain.invoke({\"query\": \"Preciso alterar meu endereço de e-mail.\"})\n",
    "print(response)"
   ]
  },
  {
   "cell_type": "code",
   "execution_count": null,
   "metadata": {},
   "outputs": [],
   "source": [
    "# Exemplo 4 (Outras Informações)\n",
    "classification = chain.invoke({\"query\": \"Qual é a missão da empresa?\"})\n",
    "response_chain = route({\"topic\": classification})\n",
    "response = response_chain.invoke({\"query\": \"Qual é a missão da empresa?\"})\n",
    "print(response)"
   ]
  },
  {
   "cell_type": "code",
   "execution_count": null,
   "metadata": {},
   "outputs": [],
   "source": []
  }
 ],
 "metadata": {
  "colab": {
   "provenance": []
  },
  "kernelspec": {
   "display_name": "Python 3 (ipykernel)",
   "language": "python",
   "name": "python3"
  },
  "language_info": {
   "codemirror_mode": {
    "name": "ipython",
    "version": 3
   },
   "file_extension": ".py",
   "mimetype": "text/x-python",
   "name": "python",
   "nbconvert_exporter": "python",
   "pygments_lexer": "ipython3",
   "version": "3.11.9"
  }
 },
 "nbformat": 4,
 "nbformat_minor": 4
}
