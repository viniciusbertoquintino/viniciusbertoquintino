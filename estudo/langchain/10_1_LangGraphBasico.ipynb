{
 "cells": [
  {
   "cell_type": "markdown",
   "id": "c29dc109-2c29-408d-8108-f8d69ee927f6",
   "metadata": {},
   "source": [
    "# Setup"
   ]
  },
  {
   "cell_type": "code",
   "execution_count": 12,
   "id": "4c7080e3-8715-4706-a3a7-e00efc8ab491",
   "metadata": {},
   "outputs": [],
   "source": [
    "from langgraph.graph import StateGraph, END\n",
    "from langchain_core.runnables import RunnableLambda\n",
    "from typing import TypedDict"
   ]
  },
  {
   "cell_type": "markdown",
   "id": "db4157bd-715b-429c-b8b5-adc26ac5e2e9",
   "metadata": {},
   "source": [
    "# Estado"
   ]
  },
  {
   "cell_type": "code",
   "execution_count": 13,
   "id": "4c0ed3b2-64bf-4b31-b63f-fbfad105ec0e",
   "metadata": {},
   "outputs": [],
   "source": [
    "class State(TypedDict):\n",
    "    message: str"
   ]
  },
  {
   "cell_type": "markdown",
   "id": "da86c98d-a273-479b-839d-c5837fde6365",
   "metadata": {},
   "source": [
    "# Funções de CallBack"
   ]
  },
  {
   "cell_type": "code",
   "execution_count": 14,
   "id": "7e408f0a-617c-4d7a-8038-20a15a952bd8",
   "metadata": {},
   "outputs": [],
   "source": [
    "def start_node(state):\n",
    "    print(\"Início do processo\")\n",
    "    return {\"message\": \"Vamos começar!\"}  "
   ]
  },
  {
   "cell_type": "code",
   "execution_count": 15,
   "id": "9175890b-a74b-4ac6-b0f2-121d9c63764e",
   "metadata": {},
   "outputs": [],
   "source": [
    "def process_node(state):\n",
    "    print(\"Processando:\", state[\"message\"])  \n",
    "    return {\"message\": state[\"message\"] + \" Agora estamos processando.\"} "
   ]
  },
  {
   "cell_type": "code",
   "execution_count": 16,
   "id": "5789a8c7-1641-44b2-a514-37873649688a",
   "metadata": {},
   "outputs": [],
   "source": [
    "def end_node(state):\n",
    "    print(\"Finalizando:\", state[\"message\"])\n",
    "    return state"
   ]
  },
  {
   "cell_type": "markdown",
   "id": "f4c8d5f1-1405-4237-88a9-a08bd5435bc1",
   "metadata": {},
   "source": [
    "# Cria Grafo"
   ]
  },
  {
   "cell_type": "code",
   "execution_count": 17,
   "id": "60f81c6e-9f7c-4e41-9709-9dba82431a8c",
   "metadata": {},
   "outputs": [
    {
     "data": {
      "text/plain": [
       "<langgraph.graph.state.StateGraph at 0x191edc27710>"
      ]
     },
     "execution_count": 17,
     "metadata": {},
     "output_type": "execute_result"
    }
   ],
   "source": [
    "graph = StateGraph(State)  \n",
    "graph.add_node(\"start\", RunnableLambda(start_node))  \n",
    "graph.add_node(\"process\", RunnableLambda(process_node))\n",
    "graph.add_node(\"end\", RunnableLambda(end_node))"
   ]
  },
  {
   "cell_type": "markdown",
   "id": "fa55669b-5d67-4363-8877-cf6c40cf8803",
   "metadata": {},
   "source": [
    "# Transições de Estado"
   ]
  },
  {
   "cell_type": "code",
   "execution_count": 18,
   "id": "64b4b77f-5d1e-4f96-bd4d-bde33c1fb6d4",
   "metadata": {},
   "outputs": [
    {
     "data": {
      "text/plain": [
       "<langgraph.graph.state.StateGraph at 0x191edc27710>"
      ]
     },
     "execution_count": 18,
     "metadata": {},
     "output_type": "execute_result"
    }
   ],
   "source": [
    "graph.set_entry_point(\"start\")\n",
    "graph.add_edge(\"start\", \"process\")\n",
    "graph.add_edge(\"process\", \"end\")\n",
    "graph.set_finish_point(\"end\")"
   ]
  },
  {
   "cell_type": "markdown",
   "id": "0ef427b5-d27a-4e46-9ac4-a9e56f039134",
   "metadata": {},
   "source": [
    "# Execução"
   ]
  },
  {
   "cell_type": "code",
   "execution_count": 19,
   "id": "4ff39824-d6fc-42c7-92fc-fd5400f10251",
   "metadata": {},
   "outputs": [
    {
     "name": "stdout",
     "output_type": "stream",
     "text": [
      "Início do processo\n",
      "Processando: Vamos começar!\n",
      "Finalizando: Vamos começar! Agora estamos processando.\n",
      "\n",
      "Estado final: {'message': 'Vamos começar! Agora estamos processando.'}\n"
     ]
    }
   ],
   "source": [
    "executable = graph.compile()\n",
    "# Executando\n",
    "final_state = executable.invoke({})\n",
    "print(\"\\nEstado final:\", final_state)"
   ]
  },
  {
   "cell_type": "code",
   "execution_count": null,
   "id": "4be92afb-cf79-4c2c-a57b-52983023a325",
   "metadata": {},
   "outputs": [],
   "source": []
  }
 ],
 "metadata": {
  "kernelspec": {
   "display_name": "Python 3 (ipykernel)",
   "language": "python",
   "name": "python3"
  },
  "language_info": {
   "codemirror_mode": {
    "name": "ipython",
    "version": 3
   },
   "file_extension": ".py",
   "mimetype": "text/x-python",
   "name": "python",
   "nbconvert_exporter": "python",
   "pygments_lexer": "ipython3",
   "version": "3.11.11"
  }
 },
 "nbformat": 4,
 "nbformat_minor": 5
}
