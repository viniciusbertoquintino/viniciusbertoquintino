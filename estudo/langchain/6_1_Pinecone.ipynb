{
 "cells": [
  {
   "cell_type": "markdown",
   "metadata": {
    "editable": true,
    "slideshow": {
     "slide_type": ""
    },
    "tags": []
   },
   "source": [
    "# Setup"
   ]
  },
  {
   "cell_type": "code",
   "execution_count": null,
   "metadata": {
    "editable": true,
    "id": "2oAIBGEAX_Q1",
    "slideshow": {
     "slide_type": ""
    },
    "tags": []
   },
   "outputs": [],
   "source": [
    "import numpy as np\n",
    "from pinecone import Pinecone\n",
    "import yaml\n",
    "import os "
   ]
  },
  {
   "cell_type": "code",
   "execution_count": null,
   "metadata": {
    "editable": true,
    "slideshow": {
     "slide_type": ""
    },
    "tags": []
   },
   "outputs": [],
   "source": [
    "with open('config.yaml', 'r') as config_file:\n",
    "    config = yaml.safe_load(config_file)\n",
    "os.environ['PINECONE_API_KEY'] = config['PINECONE_API_KEY']"
   ]
  },
  {
   "cell_type": "code",
   "execution_count": null,
   "metadata": {
    "editable": true,
    "id": "Hf3jiwaZX_Vn",
    "slideshow": {
     "slide_type": ""
    },
    "tags": []
   },
   "outputs": [],
   "source": [
    "pinecone_client = Pinecone()"
   ]
  },
  {
   "cell_type": "markdown",
   "metadata": {},
   "source": [
    "## Pinecone"
   ]
  },
  {
   "cell_type": "code",
   "execution_count": null,
   "metadata": {
    "colab": {
     "base_uri": "https://localhost:8080/"
    },
    "id": "rBZ8kM31YIl9",
    "outputId": "d072d7bf-dbe0-4533-fea4-89ca5a487bb7"
   },
   "outputs": [],
   "source": [
    "indices = pinecone_client.list_indexes()\n",
    "for index in indices:\n",
    "    index_name = index['name']\n",
    "    print(f\"Index: {index_name}\")\n",
    "    print(pinecone_client.describe_index(index_name))"
   ]
  },
  {
   "cell_type": "code",
   "execution_count": null,
   "metadata": {
    "id": "zdkSOkODYL-t"
   },
   "outputs": [],
   "source": [
    "indice_nome = 'nlp'"
   ]
  },
  {
   "cell_type": "code",
   "execution_count": null,
   "metadata": {
    "colab": {
     "base_uri": "https://localhost:8080/"
    },
    "id": "yo8pBLqCYOJH",
    "outputId": "163b3ab8-d211-402f-dc70-23692c0e5375"
   },
   "outputs": [],
   "source": [
    "vetores = [np.random.normal(0, 1, 2048).tolist() for _ in range(5)]\n",
    "ids = ['a', 'b', 'c', 'd', 'e']\n",
    "indice = pinecone_client.Index(indice_nome)\n",
    "indice.upsert(vectors=list(zip(ids, vetores)))"
   ]
  },
  {
   "cell_type": "code",
   "execution_count": null,
   "metadata": {
    "colab": {
     "base_uri": "https://localhost:8080/"
    },
    "id": "RADXgxJYhXZ9",
    "outputId": "fd6e4759-f75d-456c-c8e1-1a915ce271ae"
   },
   "outputs": [],
   "source": [
    "print(len(vetores))\n",
    "print(vetores[4])"
   ]
  },
  {
   "cell_type": "code",
   "execution_count": null,
   "metadata": {
    "colab": {
     "base_uri": "https://localhost:8080/"
    },
    "id": "JtipC6nhYOL2",
    "outputId": "fc760e40-bf63-4685-ad80-2532445c4535"
   },
   "outputs": [],
   "source": [
    "print(indice.fetch(ids=['c']))\n",
    "#1.29802501"
   ]
  },
  {
   "cell_type": "code",
   "execution_count": null,
   "metadata": {
    "colab": {
     "base_uri": "https://localhost:8080/"
    },
    "id": "K1RxTkk-Ycx3",
    "outputId": "f3f88292-ca3b-4bf8-b891-d3e329301be0"
   },
   "outputs": [],
   "source": [
    "response = indice.fetch(ids=['c'])\n",
    "if 'vectors' in response and 'c' in response['vectors']:\n",
    "    retorna_vetor = response['vectors']['c']['values']\n",
    "    atualiza_vetor = [x + 1 for x in retorna_vetor]  \n",
    "    indice.upsert(vectors=[('c', atualiza_vetor)])\n",
    "    print(indice.fetch(ids=['c']))\n",
    "else:\n",
    "    print(\"Vetor com ID 'c' não encontrado no índice.\")"
   ]
  },
  {
   "cell_type": "code",
   "execution_count": null,
   "metadata": {
    "colab": {
     "base_uri": "https://localhost:8080/"
    },
    "id": "SniwX1QbYc25",
    "outputId": "395d6de8-f78c-452d-e03a-bf8413f07c39"
   },
   "outputs": [],
   "source": [
    "indice.delete(ids=['d', 'e'])"
   ]
  },
  {
   "cell_type": "code",
   "execution_count": null,
   "metadata": {
    "colab": {
     "base_uri": "https://localhost:8080/"
    },
    "id": "m4u9TzkhfAZK",
    "outputId": "aa9402be-9634-45aa-a8f9-6106d603eacb"
   },
   "outputs": [],
   "source": [
    "print(indice.fetch(ids=['d', 'e'])) "
   ]
  },
  {
   "cell_type": "code",
   "execution_count": null,
   "metadata": {
    "colab": {
     "base_uri": "https://localhost:8080/"
    },
    "id": "AYhz2aDxYc6a",
    "outputId": "fa34c365-c3a8-4e39-884e-2918f5677a6f"
   },
   "outputs": [],
   "source": [
    "print(indice.describe_index_stats())"
   ]
  },
  {
   "cell_type": "code",
   "execution_count": null,
   "metadata": {
    "colab": {
     "base_uri": "https://localhost:8080/"
    },
    "id": "lz5FYq7xYc9z",
    "outputId": "6e69a20e-4963-4e72-dfd3-04527904fefe"
   },
   "outputs": [],
   "source": [
    "indice.upsert(vectors=list(zip(ids, vetores)), namespace='namespace1')\n",
    "indice.upsert(vectors=list(zip(['x', 'y', 'z'], \n",
    "                               [np.random.normal(0, 1, 2048).tolist() for _ in range(3)])), \n",
    "                                namespace='namespace2')"
   ]
  },
  {
   "cell_type": "code",
   "execution_count": null,
   "metadata": {
    "colab": {
     "base_uri": "https://localhost:8080/"
    },
    "id": "0fkviiIVY7w4",
    "outputId": "8895b49f-9830-47e6-f0be-288421545aa4"
   },
   "outputs": [],
   "source": [
    "print(indice.fetch(ids=['a'], namespace='namespace1'))"
   ]
  },
  {
   "cell_type": "code",
   "execution_count": null,
   "metadata": {
    "colab": {
     "base_uri": "https://localhost:8080/"
    },
    "id": "4QzFgXqfjyU5",
    "outputId": "67b45ce5-f1d9-4dee-dcc9-89f16a565cf6"
   },
   "outputs": [],
   "source": [
    "print(indice.fetch(ids=['x'], namespace='namespace2'))"
   ]
  },
  {
   "cell_type": "code",
   "execution_count": null,
   "metadata": {
    "colab": {
     "base_uri": "https://localhost:8080/"
    },
    "id": "duVboNtuY9C6",
    "outputId": "07097283-04ca-4046-f598-f905ccdc639e"
   },
   "outputs": [],
   "source": [
    "indice.delete(ids=['x'], namespace='namespace2')\n",
    "print(indice.fetch(ids=['x'], namespace='namespace2'))  # Deve retornar vazio"
   ]
  },
  {
   "cell_type": "code",
   "execution_count": null,
   "metadata": {
    "colab": {
     "base_uri": "https://localhost:8080/"
    },
    "id": "kFOIAWTaY9GT",
    "outputId": "b05c6614-c156-4257-959e-2d07daabc96b"
   },
   "outputs": [],
   "source": [
    "query_vector = np.random.normal(0, 1, 2048).tolist()\n",
    "print(indice.query(vector=query_vector, top_k=3, include_values=False))"
   ]
  },
  {
   "cell_type": "code",
   "execution_count": null,
   "metadata": {},
   "outputs": [],
   "source": []
  }
 ],
 "metadata": {
  "colab": {
   "provenance": []
  },
  "kernelspec": {
   "display_name": "Python 3 (ipykernel)",
   "language": "python",
   "name": "python3"
  },
  "language_info": {
   "codemirror_mode": {
    "name": "ipython",
    "version": 3
   },
   "file_extension": ".py",
   "mimetype": "text/x-python",
   "name": "python",
   "nbconvert_exporter": "python",
   "pygments_lexer": "ipython3",
   "version": "3.11.9"
  }
 },
 "nbformat": 4,
 "nbformat_minor": 4
}
